{
 "cells": [
  {
   "cell_type": "markdown",
   "id": "203e92bb",
   "metadata": {},
   "source": [
    "numpy是Python中科学计算的基础包。\n",
    "它是一个Python库，提供多维数组对象、各种派生对象（例如掩码数组和矩阵）以及用于对数组进行快速操作的各种方法，包括数学、逻辑、形状操作、排序、选择、I/O、离散傅里叶变换、基本线性代数、基本统计运算、随机模拟等等。"
   ]
  },
  {
   "cell_type": "markdown",
   "id": "864874a9",
   "metadata": {},
   "source": [
    "### 一、ndarray ###\n",
    "\n",
    "**1.ndarray的特性**\n",
    "\n",
    "多维性：支持0维（标量）、1维（向量）、2维（矩阵）及更高维数组。\n",
    "\n",
    "同质性：所有元素类型必须一致（通过dtype指定）。\n",
    "\n",
    "高效性：基于连续内存块存储，支持向量化运算。"
   ]
  },
  {
   "cell_type": "code",
   "execution_count": 1,
   "id": "b09417e0",
   "metadata": {},
   "outputs": [],
   "source": [
    "import numpy as np"
   ]
  },
  {
   "cell_type": "code",
   "execution_count": 5,
   "id": "d7d55d63",
   "metadata": {},
   "outputs": [
    {
     "name": "stdout",
     "output_type": "stream",
     "text": [
      "5\n",
      "arr的维度： 0\n"
     ]
    }
   ],
   "source": [
    "arr = np.array(5) # 创建0维的ndarray数组\n",
    "print(arr)\n",
    "print('arr的维度：', arr.ndim) # number of dimensions"
   ]
  },
  {
   "cell_type": "code",
   "execution_count": 6,
   "id": "1bd5eb91",
   "metadata": {},
   "outputs": [
    {
     "name": "stdout",
     "output_type": "stream",
     "text": [
      "[1 2 3]\n",
      "arr的维度： 1\n"
     ]
    }
   ],
   "source": [
    "arr = np.array([1, 2, 3]) # 创建1维的ndarray数组\n",
    "print(arr)\n",
    "print('arr的维度：', arr.ndim) # number of dimensions"
   ]
  },
  {
   "cell_type": "code",
   "execution_count": 8,
   "id": "6d015ac5",
   "metadata": {},
   "outputs": [
    {
     "name": "stdout",
     "output_type": "stream",
     "text": [
      "[[1 2 3]\n",
      " [4 5 6]]\n",
      "arr的维度： 2\n"
     ]
    }
   ],
   "source": [
    "arr = np.array([[1, 2, 3], [4, 5, 6]]) # 创建2维的ndarray数组\n",
    "print(arr)\n",
    "print('arr的维度：', arr.ndim) # number of dimensions"
   ]
  },
  {
   "cell_type": "code",
   "execution_count": 9,
   "id": "912e7b59",
   "metadata": {},
   "outputs": [
    {
     "name": "stdout",
     "output_type": "stream",
     "text": [
      "['1' 'hello']\n"
     ]
    }
   ],
   "source": [
    "arr = np.array([1, 'hello']) # 不同的数据类型会被强制转换成相同的数据类型\n",
    "print(arr)"
   ]
  },
  {
   "cell_type": "code",
   "execution_count": 10,
   "id": "3cccbcf8",
   "metadata": {},
   "outputs": [
    {
     "name": "stdout",
     "output_type": "stream",
     "text": [
      "[1.  2.5]\n"
     ]
    }
   ],
   "source": [
    "arr = np.array([1, 2.5]) # 不同的数据类型会被强制转换成相同的数据类型\n",
    "print(arr)"
   ]
  },
  {
   "cell_type": "markdown",
   "id": "28db8d53",
   "metadata": {},
   "source": [
    "**2.ndarray的属性**\n",
    "\n",
    "shape: 数组的形状-行数和列数（或更高维度的尺寸）。\n",
    "\n",
    "ndim: 维度数量-数组是几维的。\n",
    "\n",
    "size: 总元素个数-数组中所有元素的总数。\n",
    "\n",
    "dtype: 元素类型-数组中元素的类型（整数、浮点数等）。\n",
    "\n",
    "T: 转置-行变列，列变行\n",
    "\n",
    "itemsize: 每个元素占用的内存字节数\n",
    "\n",
    "nbytes: 数组总内存占用量： size * itemsize\n",
    "\n",
    "flags: 内存存储方式-是否连续存储（高级优化）"
   ]
  },
  {
   "cell_type": "code",
   "execution_count": 22,
   "id": "dceb8da9",
   "metadata": {},
   "outputs": [
    {
     "name": "stdout",
     "output_type": "stream",
     "text": [
      "1\n",
      "数组的形状： ()\n",
      "数组的维度： 0\n",
      "元素的个数： 1\n",
      "元素的数据类型： int64\n"
     ]
    }
   ],
   "source": [
    "arr = np.array(1)\n",
    "print(arr)\n",
    "print('数组的形状：', arr.shape)\n",
    "print('数组的维度：', arr.ndim)\n",
    "print('元素的个数：', arr.size)\n",
    "print('元素的数据类型：', arr.dtype)"
   ]
  },
  {
   "cell_type": "code",
   "execution_count": 27,
   "id": "aa7c9294",
   "metadata": {},
   "outputs": [
    {
     "name": "stdout",
     "output_type": "stream",
     "text": [
      "[1.  2.5 3. ]\n",
      "数组的形状： (3,)\n",
      "数组的维度： 1\n",
      "元素的个数： 3\n",
      "元素的数据类型： float64\n",
      "元素的转置 [1.  2.5 3. ]\n"
     ]
    }
   ],
   "source": [
    "arr = np.array([1, 2.5, 3])\n",
    "print(arr)\n",
    "print('数组的形状：', arr.shape)\n",
    "print('数组的维度：', arr.ndim)\n",
    "print('元素的个数：', arr.size)\n",
    "print('元素的数据类型：', arr.dtype)\n",
    "print('元素的转置', arr.T)"
   ]
  },
  {
   "cell_type": "code",
   "execution_count": 28,
   "id": "c7a48bbf",
   "metadata": {},
   "outputs": [
    {
     "name": "stdout",
     "output_type": "stream",
     "text": [
      "[[1 2 3]\n",
      " [4 5 6]]\n",
      "数组的形状： (2, 3)\n",
      "数组的维度： 2\n",
      "元素的个数： 6\n",
      "元素的数据类型： int64\n",
      "元素的转置 [[1 4]\n",
      " [2 5]\n",
      " [3 6]]\n"
     ]
    }
   ],
   "source": [
    "arr = np.array([[1, 2, 3], [4, 5, 6]])\n",
    "print(arr)\n",
    "print('数组的形状：', arr.shape)\n",
    "print('数组的维度：', arr.ndim)\n",
    "print('元素的个数：', arr.size)\n",
    "print('元素的数据类型：', arr.dtype)\n",
    "print('元素的转置', arr.T)"
   ]
  },
  {
   "cell_type": "markdown",
   "id": "9a80c50f",
   "metadata": {},
   "source": [
    "**3.ndarray的创建**\n",
    "\n",
    "1. 基础构造： 适用于手动构建小规模数组或复制已有数据。\n",
    "2. 预定义形状填充： 用于快速初始化固定形状的数组（如全0占位、全1初始化）。\n",
    "3. 基于数值范围生成： 生成数值序列，常用于模拟时间序列、坐标网络等。\n",
    "4. 特殊矩阵生成： 数学运算专用（如线性代数中的单位矩阵）。\n",
    "5. 随机数组生成： 模拟实验数据、初始化神经网络权重等场景。\n",
    "6. 高级构造方法： 处理非结构化数据（如文件、字符串）或通过函数生成复杂数组。"
   ]
  },
  {
   "cell_type": "code",
   "execution_count": 31,
   "id": "e8d915f3",
   "metadata": {},
   "outputs": [
    {
     "name": "stdout",
     "output_type": "stream",
     "text": [
      "1\n",
      "[1. 2. 3.]\n"
     ]
    }
   ],
   "source": [
    "# 基础的创建方法\n",
    "arr = np.array([1,2,3], dtype=np.float64) # 相当于list=[1, 2, 3], arr=np.array(list)\n",
    "print(arr.ndim)\n",
    "print(arr)"
   ]
  },
  {
   "cell_type": "code",
   "execution_count": 34,
   "id": "e1fdd45b",
   "metadata": {},
   "outputs": [
    {
     "name": "stdout",
     "output_type": "stream",
     "text": [
      "[1. 2. 3.]\n",
      "[8. 2. 3.]\n",
      "[1. 2. 3.]\n"
     ]
    }
   ],
   "source": [
    "# copy\n",
    "arr1 = np.copy(arr) # 元素跟原始的数组相同，但是不是一个数组\n",
    "print(arr1)\n",
    "arr1[0] = 8\n",
    "print(arr1)\n",
    "print(arr)"
   ]
  },
  {
   "cell_type": "code",
   "execution_count": 37,
   "id": "ed8c8dac",
   "metadata": {},
   "outputs": [
    {
     "name": "stdout",
     "output_type": "stream",
     "text": [
      "[[0 0 0]\n",
      " [0 0 0]]\n",
      "int64\n"
     ]
    }
   ],
   "source": [
    "# 预定义形状\n",
    "# 全0 全1 未初始化 固定值\n",
    "# 全0\n",
    "arr = np.zeros((2,3), dtype=int) # 2行3列\n",
    "print(arr)\n",
    "print(arr.dtype)"
   ]
  },
  {
   "cell_type": "code",
   "execution_count": 39,
   "id": "48a8b459",
   "metadata": {},
   "outputs": [
    {
     "name": "stdout",
     "output_type": "stream",
     "text": [
      "[[1 1 1]\n",
      " [1 1 1]]\n"
     ]
    }
   ],
   "source": [
    "# 全1\n",
    "arr = np.ones((2,3), dtype=int)\n",
    "print(arr)"
   ]
  },
  {
   "cell_type": "code",
   "execution_count": 41,
   "id": "2df7ad07",
   "metadata": {},
   "outputs": [
    {
     "name": "stdout",
     "output_type": "stream",
     "text": [
      "[[0. 0.]\n",
      " [0. 0.]\n",
      " [0. 0.]\n",
      " [0. 0.]]\n"
     ]
    }
   ],
   "source": [
    "# 未初始化\n",
    "arr = np.empty((4,2))\n",
    "print(arr)"
   ]
  },
  {
   "cell_type": "code",
   "execution_count": 42,
   "id": "339983f5",
   "metadata": {},
   "outputs": [
    {
     "name": "stdout",
     "output_type": "stream",
     "text": [
      "[[2025 2025 2025 2025]\n",
      " [2025 2025 2025 2025]\n",
      " [2025 2025 2025 2025]]\n"
     ]
    }
   ],
   "source": [
    "arr = np.full((3,4), 2025)\n",
    "print(arr)"
   ]
  },
  {
   "cell_type": "code",
   "execution_count": 43,
   "id": "50fd5b5f",
   "metadata": {},
   "outputs": [
    {
     "name": "stdout",
     "output_type": "stream",
     "text": [
      "[[2025 2025 2025 2025]\n",
      " [2025 2025 2025 2025]\n",
      " [2025 2025 2025 2025]]\n"
     ]
    }
   ],
   "source": [
    "arr1 = np.zeros_like(arr) # 同理还有empty_like, full_like, ones_like\n",
    "print(arr)"
   ]
  },
  {
   "cell_type": "code",
   "execution_count": 47,
   "id": "847a3da7",
   "metadata": {},
   "outputs": [
    {
     "name": "stdout",
     "output_type": "stream",
     "text": [
      "[ 2  4  6  8 10]\n"
     ]
    }
   ],
   "source": [
    "# 等差数列 2 4 6 8 10\n",
    "arr = np.arange(2, 11, 2) # start, end, step(步长)\n",
    "print(arr)"
   ]
  },
  {
   "cell_type": "code",
   "execution_count": 49,
   "id": "39ef5f82",
   "metadata": {},
   "outputs": [
    {
     "name": "stdout",
     "output_type": "stream",
     "text": [
      "[ 1.    3.25  5.5   7.75 10.  ]\n"
     ]
    }
   ],
   "source": [
    "# 等间隔数列\n",
    "app = np.linspace(1, 10, 5) # 每个数字之间的间隔是一样的\n",
    "print(app)"
   ]
  },
  {
   "cell_type": "code",
   "execution_count": 53,
   "id": "341d7c21",
   "metadata": {},
   "outputs": [
    {
     "name": "stdout",
     "output_type": "stream",
     "text": [
      "[  0  25  50  75 100]\n",
      "[  0  25  50  75 100]\n"
     ]
    }
   ],
   "source": [
    "arr = np.linspace(0, 100, 5, dtype=int)\n",
    "print(arr)\n",
    "arr = np.arange(0, 101, 25)\n",
    "print(arr)"
   ]
  },
  {
   "cell_type": "code",
   "execution_count": 55,
   "id": "5f7fb92a",
   "metadata": {},
   "outputs": [
    {
     "name": "stdout",
     "output_type": "stream",
     "text": [
      "[ 1.  4. 16.]\n"
     ]
    }
   ],
   "source": [
    "# 对数间隔数列\n",
    "arr = np.logspace(0,4,3,base=2) # 取了0，2，4这3个数，以2为底的结果\n",
    "print(arr)"
   ]
  },
  {
   "cell_type": "code",
   "execution_count": 59,
   "id": "316b2ad9",
   "metadata": {},
   "outputs": [
    {
     "name": "stdout",
     "output_type": "stream",
     "text": [
      "[[1 0 0 0]\n",
      " [0 1 0 0]\n",
      " [0 0 1 0]]\n"
     ]
    }
   ],
   "source": [
    "# 特殊矩阵\n",
    "# 单位矩阵：主对角线上的数字为1，其他的数字为0\n",
    "arr = np.eye(3, 4, dtype=int)\n",
    "print(arr)"
   ]
  },
  {
   "cell_type": "code",
   "execution_count": 62,
   "id": "9a3e8ad8",
   "metadata": {},
   "outputs": [
    {
     "name": "stdout",
     "output_type": "stream",
     "text": [
      "[[5 0 0 0]\n",
      " [0 1 0 0]\n",
      " [0 0 2 0]\n",
      " [0 0 0 3]]\n"
     ]
    }
   ],
   "source": [
    "# 对角矩阵： 主对角线上非零的数字，其他的数字为0\n",
    "arr = np.diag([5,1,2,3])\n",
    "print(arr)"
   ]
  },
  {
   "cell_type": "code",
   "execution_count": 63,
   "id": "3a5e19f1",
   "metadata": {},
   "outputs": [
    {
     "name": "stdout",
     "output_type": "stream",
     "text": [
      "[[0.9913032  0.20531812 0.61394881]\n",
      " [0.09540605 0.83921191 0.11742997]]\n"
     ]
    }
   ],
   "source": [
    "# 随机数组的生成\n",
    "# 生成0到1之间的随机浮点数（均匀分布）\n",
    "arr = np.random.rand(2,3)\n",
    "print(arr)"
   ]
  },
  {
   "cell_type": "code",
   "execution_count": 64,
   "id": "97e492f4",
   "metadata": {},
   "outputs": [
    {
     "name": "stdout",
     "output_type": "stream",
     "text": [
      "[[5.7281343  5.38087844 5.80806109]\n",
      " [4.47735845 5.47513786 3.97151436]]\n"
     ]
    }
   ],
   "source": [
    "# 生成指定范围区间的随机浮点数\n",
    "arr = np.random.uniform(3, 6, (2,3))\n",
    "print(arr)"
   ]
  },
  {
   "cell_type": "code",
   "execution_count": 65,
   "id": "dcd4af12",
   "metadata": {},
   "outputs": [
    {
     "name": "stdout",
     "output_type": "stream",
     "text": [
      "[[16 15 13]\n",
      " [16  3 27]]\n"
     ]
    }
   ],
   "source": [
    "# 生成指定范围区间的随机整数\n",
    "arr = np.random.randint(3, 30, (2,3))\n",
    "print(arr)"
   ]
  },
  {
   "cell_type": "code",
   "execution_count": 71,
   "id": "7b873331",
   "metadata": {},
   "outputs": [
    {
     "name": "stdout",
     "output_type": "stream",
     "text": [
      "[[ 0.93946935 -0.97848104  0.50309684]\n",
      " [ 0.40641447  0.32346101 -0.49341088]]\n"
     ]
    }
   ],
   "source": [
    "# 生成随机数列（正态分布）\n",
    "# 两边小，中间大\n",
    "arr = np.random.randn(2,3)\n",
    "print(arr)"
   ]
  },
  {
   "cell_type": "code",
   "execution_count": 70,
   "id": "202f2cac",
   "metadata": {},
   "outputs": [
    {
     "name": "stdout",
     "output_type": "stream",
     "text": [
      "[[4 5 7 8 3]\n",
      " [1 7 9 6 4]]\n"
     ]
    }
   ],
   "source": [
    "# 设置随机种子\n",
    "np.random.seed(20) # 保证生成的数组是一样的，种子和数组是有关联的\n",
    "arr = np.random.randint(1,10,(2,5))\n",
    "print(arr)"
   ]
  },
  {
   "cell_type": "markdown",
   "id": "8b0cb2d6",
   "metadata": {},
   "source": [
    "**4.ndarray的数据类型**\n",
    "\n",
    "布尔类型 bool\n",
    "\n",
    "整数类型 int unit\n",
    "\n",
    "浮点数 float\n",
    "\n",
    "复数 complex"
   ]
  },
  {
   "cell_type": "code",
   "execution_count": 74,
   "id": "abaf7c1b",
   "metadata": {},
   "outputs": [
    {
     "name": "stdout",
     "output_type": "stream",
     "text": [
      "[ True False  True False]\n"
     ]
    }
   ],
   "source": [
    "arr = np.array([1,0,3,0], dtype='bool')\n",
    "print(arr)"
   ]
  },
  {
   "cell_type": "code",
   "execution_count": 75,
   "id": "8114e3c4",
   "metadata": {},
   "outputs": [
    {
     "name": "stdout",
     "output_type": "stream",
     "text": [
      "[1 0 3 0]\n"
     ]
    }
   ],
   "source": [
    "arr = np.array([1,0,3,0], dtype=np.int8) #int8的范围是-128～127\n",
    "print(arr)"
   ]
  },
  {
   "cell_type": "markdown",
   "id": "9713bbd0",
   "metadata": {},
   "source": [
    "**5.ndarray的索引与切片**\n",
    "\n",
    "基本索引： 通过整数索引直接访问元素。索引从0开始\n",
    "\n",
    "行/列切片： 使用冒号：切片语法选择行或列的子集\n",
    "\n",
    "连续切片： 从起始索引到结束索引按步长切片\n",
    "\n",
    "使用slice函数： 通过slice（start, stop, step）定义切片规则\n",
    "\n",
    "布尔索引： 通过布尔条件筛选满足条件的元素，支持逻辑运算符&、｜"
   ]
  },
  {
   "cell_type": "code",
   "execution_count": 79,
   "id": "ef044e09",
   "metadata": {},
   "outputs": [
    {
     "name": "stdout",
     "output_type": "stream",
     "text": [
      "[61 85 31 37  9 49 20 49 96 54 11 39 10 61 61 24 53 97 77 79]\n",
      "11\n",
      "[61 85 31 37  9 49 20 49 96 54 11 39 10 61 61 24 53 97 77 79]\n",
      "[31 37  9]\n",
      "[31 49 96 39 61]\n",
      "[61 31 37 49 20 49 54 11 39 61 61 24 53]\n"
     ]
    }
   ],
   "source": [
    "# 一维数组的索引与切片\n",
    "arr = np.random.randint(1, 100, 20)\n",
    "print(arr)\n",
    "print(arr[10])\n",
    "print(arr[:]) # 获取全部的数据\n",
    "print(arr[2:5]) # start:end+1 左闭右开\n",
    "print(arr[slice(2, 15, 3)]) # start, end, step\n",
    "print(arr[(arr>10) & (arr<70)]) # 布尔索引"
   ]
  },
  {
   "cell_type": "code",
   "execution_count": 80,
   "id": "55050a11",
   "metadata": {},
   "outputs": [
    {
     "name": "stdout",
     "output_type": "stream",
     "text": [
      "[[96 55 82 74 28 40 88 10]\n",
      " [15 32 57 57 59 80 28 51]\n",
      " [75 70  3 58 24 96 26 42]\n",
      " [10 67 16 66 31 89 50 41]]\n"
     ]
    }
   ],
   "source": [
    "# 二维数组的索引与切片\n",
    "arr = np.random.randint(1, 100, (4,8))\n",
    "print(arr)"
   ]
  },
  {
   "cell_type": "code",
   "execution_count": 90,
   "id": "208f858b",
   "metadata": {},
   "outputs": [
    {
     "name": "stdout",
     "output_type": "stream",
     "text": [
      "59\n",
      "[57 57 59]\n",
      "[96 55 82 74 88 57 57 59 80 51 75 70 58 96 67 66 89]\n",
      "[75 70  3 58 24 96 26 42]\n",
      "[75 70 58 96]\n",
      "[74 57 58 66]\n"
     ]
    }
   ],
   "source": [
    "print(arr[1,4]) # 索引 \n",
    "print(arr[1,2:5])\n",
    "print(arr[arr>50])\n",
    "print(arr[2]) # 第2行所有数据，也可以写成arr[2,:]\n",
    "print(arr[2][arr[2]>50]) # 嵌套，过滤行数据\n",
    "print(arr[:,3])"
   ]
  },
  {
   "cell_type": "markdown",
   "id": "2e5e6d16",
   "metadata": {},
   "source": [
    "**6.ndarray的运算**"
   ]
  },
  {
   "cell_type": "code",
   "execution_count": 95,
   "id": "ffcc1677",
   "metadata": {},
   "outputs": [
    {
     "name": "stdout",
     "output_type": "stream",
     "text": [
      "[5 7 9]\n",
      "[-3 -3 -3]\n",
      "[ 4 10 18]\n",
      "[0.25 0.4  0.5 ]\n",
      "[1 4 9]\n"
     ]
    }
   ],
   "source": [
    "# 算术运算\n",
    "a = np.array([1,2,3])\n",
    "b = np.array([4,5,6])\n",
    "print(a + b)\n",
    "print(a - b)\n",
    "print(a * b)\n",
    "print(a / b)\n",
    "print(a ** 2)"
   ]
  },
  {
   "cell_type": "code",
   "execution_count": 94,
   "id": "9e6e9ea0",
   "metadata": {},
   "outputs": [
    {
     "name": "stdout",
     "output_type": "stream",
     "text": [
      "[1, 2, 3, 4, 5, 6]\n",
      "[5, 7, 9]\n"
     ]
    }
   ],
   "source": [
    "c = [1, 2, 3]\n",
    "d = [4, 5, 6]\n",
    "print(c + d)\n",
    "for i in range(len(c)):\n",
    "    d[i] = d[i] + c[i]\n",
    "print(d)"
   ]
  },
  {
   "cell_type": "code",
   "execution_count": 96,
   "id": "0e42f5d8",
   "metadata": {},
   "outputs": [
    {
     "name": "stdout",
     "output_type": "stream",
     "text": [
      "[[ 5  7  9]\n",
      " [11 13 15]\n",
      " [ 8 10 12]]\n",
      "[[-3 -3 -3]\n",
      " [-3 -3 -3]\n",
      " [ 6  6  6]]\n",
      "[[ 4 10 18]\n",
      " [28 40 54]\n",
      " [ 7 16 27]]\n",
      "[[0.25       0.4        0.5       ]\n",
      " [0.57142857 0.625      0.66666667]\n",
      " [7.         4.         3.        ]]\n",
      "[[ 1  4  9]\n",
      " [16 25 36]\n",
      " [49 64 81]]\n"
     ]
    }
   ],
   "source": [
    "a = np.array([[1,2,3],[4,5,6],[7,8,9]])\n",
    "b = np.array([[4,5,6],[7,8,9],[1,2,3]])\n",
    "print(a + b)\n",
    "print(a - b)\n",
    "print(a * b)\n",
    "print(a / b)\n",
    "print(a ** 2)"
   ]
  },
  {
   "cell_type": "code",
   "execution_count": 97,
   "id": "407482ec",
   "metadata": {},
   "outputs": [
    {
     "name": "stdout",
     "output_type": "stream",
     "text": [
      "[[ 4  5  6]\n",
      " [ 7  8  9]\n",
      " [10 11 12]]\n",
      "[[ 3  6  9]\n",
      " [12 15 18]\n",
      " [21 24 27]]\n"
     ]
    }
   ],
   "source": [
    "# 数组与标量之间的算数运算\n",
    "a = np.array([[1,2,3],[4,5,6],[7,8,9]])\n",
    "print(a + 3)\n",
    "print(a * 3)"
   ]
  },
  {
   "cell_type": "code",
   "execution_count": 98,
   "id": "ab0bee1b",
   "metadata": {},
   "outputs": [
    {
     "name": "stdout",
     "output_type": "stream",
     "text": [
      "[[5 6 7]\n",
      " [6 7 8]\n",
      " [7 8 9]]\n"
     ]
    },
    {
     "data": {
      "text/plain": [
       "'a\\n1 2 3\\n1 2 3\\n1 2 3\\nb\\n4 4 4\\n5 5 5\\n6 6 6\\n'"
      ]
     },
     "execution_count": 98,
     "metadata": {},
     "output_type": "execute_result"
    }
   ],
   "source": [
    "# 广播机制\n",
    "# 同一维度：相同、1\n",
    "a = np.array([1, 2, 3]) # 1*3\n",
    "b = np.array([[4],[5],[6]]) # 3*1\n",
    "print(a + b)\n",
    "'''a\n",
    "1 2 3\n",
    "1 2 3\n",
    "1 2 3\n",
    "b\n",
    "4 4 4\n",
    "5 5 5\n",
    "6 6 6\n",
    "'''"
   ]
  },
  {
   "cell_type": "code",
   "execution_count": 100,
   "id": "b97a6b70",
   "metadata": {},
   "outputs": [
    {
     "name": "stdout",
     "output_type": "stream",
     "text": [
      "[[ 4 10 18]\n",
      " [28 40 54]\n",
      " [ 7 16 27]]\n",
      "[[ 21  27  33]\n",
      " [ 57  72  87]\n",
      " [ 93 117 141]]\n"
     ]
    }
   ],
   "source": [
    "# 矩阵运算\n",
    "a = np.array([[1,2,3],[4,5,6],[7,8,9]])\n",
    "b = np.array([[4,5,6],[7,8,9],[1,2,3]])\n",
    "print(a * b) # 对应数字相乘\n",
    "print(a @ b) # 矩阵乘法"
   ]
  },
  {
   "cell_type": "markdown",
   "id": "de523807",
   "metadata": {},
   "source": [
    "### 二、numpy中的常用函数 ###\n",
    "\n",
    "**1.基本数学函数**"
   ]
  },
  {
   "cell_type": "code",
   "execution_count": 103,
   "id": "7d308a20",
   "metadata": {},
   "outputs": [
    {
     "name": "stdout",
     "output_type": "stream",
     "text": [
      "3.0\n",
      "[1. 2. 3.]\n",
      "[1. 5. 9.]\n"
     ]
    }
   ],
   "source": [
    "# 计算平方根\n",
    "print(np.sqrt(9))\n",
    "print(np.sqrt([1,4,9]))\n",
    "arr = np.array([1,25,81])\n",
    "print(np.sqrt(arr))"
   ]
  },
  {
   "cell_type": "code",
   "execution_count": 104,
   "id": "6a5da11d",
   "metadata": {},
   "outputs": [
    {
     "name": "stdout",
     "output_type": "stream",
     "text": [
      "2.718281828459045\n"
     ]
    }
   ],
   "source": [
    "# 计算指数 e^x = y\n",
    "print(np.exp(1))"
   ]
  },
  {
   "cell_type": "code",
   "execution_count": 105,
   "id": "7c20c98d",
   "metadata": {},
   "outputs": [
    {
     "name": "stdout",
     "output_type": "stream",
     "text": [
      "0.9969486348916096\n"
     ]
    }
   ],
   "source": [
    "# 计算自然对数 ln y = x\n",
    "print(np.log(2.71))"
   ]
  },
  {
   "cell_type": "code",
   "execution_count": 106,
   "id": "189dbc6f",
   "metadata": {},
   "outputs": [
    {
     "name": "stdout",
     "output_type": "stream",
     "text": [
      "-0.8414709848078965\n",
      "-1.0\n"
     ]
    }
   ],
   "source": [
    "# 计算正弦值、余弦值\n",
    "print(np.sin(-1))\n",
    "print(np.cos(np.pi))"
   ]
  },
  {
   "cell_type": "code",
   "execution_count": 107,
   "id": "7189a596",
   "metadata": {},
   "outputs": [
    {
     "name": "stdout",
     "output_type": "stream",
     "text": [
      "[1 1 2 3]\n"
     ]
    }
   ],
   "source": [
    "# 计算绝对值\n",
    "arr = np.array([-1, 1, 2, -3])\n",
    "print(np.abs(arr))"
   ]
  },
  {
   "cell_type": "code",
   "execution_count": 108,
   "id": "7ce62368",
   "metadata": {},
   "outputs": [
    {
     "name": "stdout",
     "output_type": "stream",
     "text": [
      "[1 1 4 9]\n"
     ]
    }
   ],
   "source": [
    "# 计算a的b次幂\n",
    "print(np.power(arr,2))"
   ]
  },
  {
   "cell_type": "code",
   "execution_count": 109,
   "id": "4dd5e926",
   "metadata": {},
   "outputs": [
    {
     "name": "stdout",
     "output_type": "stream",
     "text": [
      "[ 3.  4.  8. 10.]\n"
     ]
    }
   ],
   "source": [
    "# 四舍五入\n",
    "print(np.round([3.2, 4.5, 8.1, 9.6]))"
   ]
  },
  {
   "cell_type": "code",
   "execution_count": 110,
   "id": "27325b90",
   "metadata": {},
   "outputs": [
    {
     "name": "stdout",
     "output_type": "stream",
     "text": [
      "[ 2. 26. 82.]\n",
      "[ 1. 25. 81.]\n"
     ]
    }
   ],
   "source": [
    "# 向上取整，向下取整\n",
    "arr = np.array([1.6, 25.1, 81.7])\n",
    "print(np.ceil(arr))\n",
    "print(np.floor(arr))"
   ]
  },
  {
   "cell_type": "code",
   "execution_count": 112,
   "id": "e985de65",
   "metadata": {},
   "outputs": [
    {
     "data": {
      "text/plain": [
       "array([False, False,  True, False])"
      ]
     },
     "execution_count": 112,
     "metadata": {},
     "output_type": "execute_result"
    }
   ],
   "source": [
    "# 检测缺失值NaN\n",
    "np.isnan([1, 2, np.nan, 3])"
   ]
  },
  {
   "cell_type": "markdown",
   "id": "eb04d879",
   "metadata": {},
   "source": [
    "**2.统计函数**\n",
    "\n",
    "求和、计算平均值、计算中位数、标准差、方差\n",
    "\n",
    "查找最大值、最小值\n",
    "\n",
    "计算分位数、累积和、累积差"
   ]
  },
  {
   "cell_type": "code",
   "execution_count": 114,
   "id": "28319275",
   "metadata": {},
   "outputs": [
    {
     "name": "stdout",
     "output_type": "stream",
     "text": [
      "[15  6  4 12 10  2  3 14]\n"
     ]
    }
   ],
   "source": [
    "arr = np.random.randint(1, 20, 8)\n",
    "print(arr)"
   ]
  },
  {
   "cell_type": "code",
   "execution_count": 116,
   "id": "15584686",
   "metadata": {},
   "outputs": [
    {
     "name": "stdout",
     "output_type": "stream",
     "text": [
      "66\n"
     ]
    }
   ],
   "source": [
    "# 求和\n",
    "print(np.sum(arr))"
   ]
  },
  {
   "cell_type": "code",
   "execution_count": 118,
   "id": "2c9ed2e4",
   "metadata": {},
   "outputs": [
    {
     "name": "stdout",
     "output_type": "stream",
     "text": [
      "8.25\n"
     ]
    }
   ],
   "source": [
    "# 计算平均值\n",
    "print(np.mean(arr))"
   ]
  },
  {
   "cell_type": "code",
   "execution_count": 121,
   "id": "bcfbf9bc",
   "metadata": {},
   "outputs": [
    {
     "name": "stdout",
     "output_type": "stream",
     "text": [
      "8.0\n",
      "2.0\n",
      "3.0\n"
     ]
    }
   ],
   "source": [
    "# 计算中位数\n",
    "# 奇数： 排序后中间的数值\n",
    "# 偶数： 中间的两个数的平均值\n",
    "print(np.median(arr))\n",
    "print(np.median([1, 2, 4]))\n",
    "print(np.median([1, 2, 4, 8]))"
   ]
  },
  {
   "cell_type": "code",
   "execution_count": 124,
   "id": "447128be",
   "metadata": {},
   "outputs": [
    {
     "name": "stdout",
     "output_type": "stream",
     "text": [
      "1.375\n",
      "1.25\n",
      "0.234375\n",
      "2.1875\n",
      "0.4841229182759271\n",
      "1.479019945774904\n"
     ]
    }
   ],
   "source": [
    "# 计算方差、标准差\n",
    "# 1, 2, 3的平均值 2\n",
    "# 方差：((1-2)^2 + (2-2)^2 + (3-2)^2) / 3 = 0.66 标准差：方差开方\n",
    "arr1 = np.array([1,2,1,2,1,1,1,2])\n",
    "arr2 = np.array([1,0,3,0,0,0,4,2])\n",
    "print(np.mean(arr1))\n",
    "print(np.mean(arr2))\n",
    "print(np.var(arr1))\n",
    "print(np.var(arr2))\n",
    "print(np.std(arr1))\n",
    "print(np.std(arr2))"
   ]
  },
  {
   "cell_type": "code",
   "execution_count": 126,
   "id": "624fcb47",
   "metadata": {},
   "outputs": [
    {
     "name": "stdout",
     "output_type": "stream",
     "text": [
      "[15  6  4 12 10  2  3 14]\n",
      "15 0\n",
      "2 5\n"
     ]
    }
   ],
   "source": [
    "# 计算最大值、最小值\n",
    "print(arr)\n",
    "print(np.max(arr), np.argmax(arr))\n",
    "print(np.min(arr), np.argmin(arr))"
   ]
  },
  {
   "cell_type": "code",
   "execution_count": 128,
   "id": "afeca6ba",
   "metadata": {},
   "outputs": [
    {
     "name": "stdout",
     "output_type": "stream",
     "text": [
      "2.0\n",
      "2.5\n",
      "[44 47 64 67]\n",
      "55.5\n",
      "46.25\n"
     ]
    }
   ],
   "source": [
    "# 分位数\n",
    "# 中位数\n",
    "print(np.median([1, 2, 3]))\n",
    "print(np.median([1, 2, 3, 4]))\n",
    "np.random.seed(0)\n",
    "arr = np.random.randint(0, 100, 4)\n",
    "print(arr)\n",
    "print(np.median(arr))\n",
    "# ___________________\n",
    "# 44   47    64    67\n",
    "# 0.25 * 3 = 0.75\n",
    "# (47 - 44) * 0.75 = 2.25 + 44 = 46.25\n",
    "print(np.percentile(arr,25)) # 所有数字的比例"
   ]
  },
  {
   "cell_type": "code",
   "execution_count": 129,
   "id": "0d7cff56",
   "metadata": {},
   "outputs": [
    {
     "name": "stdout",
     "output_type": "stream",
     "text": [
      "6\n",
      "[1 3 6]\n",
      "[1 2 6]\n"
     ]
    }
   ],
   "source": [
    "# 累积和、累积积\n",
    "arr = np.array([1, 2, 3])\n",
    "print(np.sum(arr))\n",
    "print(np.cumsum(arr))\n",
    "print(np.cumprod(arr))"
   ]
  },
  {
   "cell_type": "markdown",
   "id": "71c07a43",
   "metadata": {},
   "source": [
    "**3.比较函数**\n",
    "\n",
    "比较是否大于、小于、等于\n",
    "\n",
    "逻辑与、或、非\n",
    "\n",
    "检查数组中是否有一个True，是否所有的都为True，自定义条件"
   ]
  },
  {
   "cell_type": "code",
   "execution_count": 131,
   "id": "c43bd41a",
   "metadata": {},
   "outputs": [
    {
     "name": "stdout",
     "output_type": "stream",
     "text": [
      "[False False  True  True  True]\n",
      "[ True False False False False False]\n",
      "[False  True False False False False]\n",
      "[False  True False]\n"
     ]
    }
   ],
   "source": [
    "# 是否大于\n",
    "print(np.greater([3,4,5,6,7],4))\n",
    "# 是否小于\n",
    "print(np.less([3,4,5,6,7,8],4))\n",
    "# 是否等于\n",
    "print(np.equal([3,4,5,6,7,8],4))\n",
    "print(np.equal([3,4,5],[4,4,4]))"
   ]
  },
  {
   "cell_type": "code",
   "execution_count": 133,
   "id": "eb3f348d",
   "metadata": {},
   "outputs": [
    {
     "name": "stdout",
     "output_type": "stream",
     "text": [
      "[ True False]\n",
      "[False  True]\n",
      "[ True  True]\n"
     ]
    }
   ],
   "source": [
    "print(np.logical_and([1,0], [1,1]))\n",
    "print(np.logical_not([1,0]))\n",
    "print(np.logical_or([0,0], [1,1]))"
   ]
  },
  {
   "cell_type": "code",
   "execution_count": 136,
   "id": "051aeabf",
   "metadata": {},
   "outputs": [
    {
     "name": "stdout",
     "output_type": "stream",
     "text": [
      "True\n",
      "False\n",
      "True\n",
      "False\n"
     ]
    }
   ],
   "source": [
    "# 检查元素是否至少有一个元素为True\n",
    "print(np.any([0,1,0,0,0]))\n",
    "print(np.any([0,0,0,0,0]))\n",
    "# 检查是否全部元素为True\n",
    "print(np.all([1,1]))\n",
    "print(np.all([1,0]))"
   ]
  },
  {
   "cell_type": "code",
   "execution_count": 137,
   "id": "ff399d1d",
   "metadata": {},
   "outputs": [
    {
     "name": "stdout",
     "output_type": "stream",
     "text": [
      "[0 0 0 4 5]\n"
     ]
    }
   ],
   "source": [
    "# 自定义条件\n",
    "# print(np.where(条件，符合条件，不符合条件))\n",
    "arr = np.array([1, 2, 3, 4, 5])\n",
    "print(np.where(arr>3, arr, 0))"
   ]
  },
  {
   "cell_type": "code",
   "execution_count": 139,
   "id": "6d49e732",
   "metadata": {},
   "outputs": [
    {
     "name": "stdout",
     "output_type": "stream",
     "text": [
      "[1 1 0 0 0]\n"
     ]
    }
   ],
   "source": [
    "arr = np.array([1,2,3,4,5])\n",
    "print(np.where(arr<3, 1, 0))"
   ]
  },
  {
   "cell_type": "code",
   "execution_count": 141,
   "id": "7de44ed0",
   "metadata": {},
   "outputs": [
    {
     "name": "stdout",
     "output_type": "stream",
     "text": [
      "[63 58 59 70 66 55 65 97 50 68 85 74 99 79 69 69 64 89 82 51]\n",
      "['及格' '不及格' '不及格' '及格' '及格' '不及格' '及格' '及格' '不及格' '及格' '及格' '及格' '及格' '及格'\n",
      " '及格' '及格' '及格' '及格' '及格' '不及格']\n"
     ]
    }
   ],
   "source": [
    "score = np.random.randint(50, 100, 20)\n",
    "print(score)\n",
    "print(np.where(score>=60, '及格', '不及格'))"
   ]
  },
  {
   "cell_type": "code",
   "execution_count": 142,
   "id": "9a026f07",
   "metadata": {
    "scrolled": true
   },
   "outputs": [
    {
     "name": "stdout",
     "output_type": "stream",
     "text": [
      "['良好' '不及格' '不及格' '良好' '良好' '不及格' '良好' '优秀' '不及格' '良好' '优秀' '良好' '优秀' '良好'\n",
      " '良好' '良好' '良好' '优秀' '优秀' '不及格']\n"
     ]
    }
   ],
   "source": [
    "print(np.where(\n",
    "    score < 60, '不及格', np.where(\n",
    "        score < 80, '良好', '优秀')\n",
    "))"
   ]
  },
  {
   "cell_type": "code",
   "execution_count": 143,
   "id": "0e4f1a4c",
   "metadata": {},
   "outputs": [
    {
     "name": "stdout",
     "output_type": "stream",
     "text": [
      "['良好' '不及格' '不及格' '良好' '良好' '不及格' '良好' '优秀' '不及格' '良好' '优秀' '良好' '优秀' '良好'\n",
      " '良好' '良好' '良好' '优秀' '优秀' '不及格']\n"
     ]
    }
   ],
   "source": [
    "# np.select(条件， 返回的结果)\n",
    "print(np.select([score>80, (score>60)&(score<80), score<60], \n",
    "                ['优秀', '良好', '不及格'],\n",
    "               default = '未知'))"
   ]
  },
  {
   "cell_type": "markdown",
   "id": "9e769a7f",
   "metadata": {},
   "source": [
    "**4.排序函数**"
   ]
  },
  {
   "cell_type": "code",
   "execution_count": 145,
   "id": "42c825f4",
   "metadata": {},
   "outputs": [
    {
     "name": "stdout",
     "output_type": "stream",
     "text": [
      "[45 48 65 68 68 10 84 22 37 88 71 89 89 13 59 66 40 88 47 89]\n",
      "None\n",
      "[10 13 22 37 40 45 47 48 59 65 66 68 68 71 84 88 88 89 89 89]\n"
     ]
    }
   ],
   "source": [
    "np.random.seed(0)\n",
    "arr = np.random.randint(1,100,20)\n",
    "print(arr)\n",
    "print(arr.sort()) # 这个输出的是arr.sort()这个内容，而不是arr的内容\n",
    "print(arr)"
   ]
  },
  {
   "cell_type": "code",
   "execution_count": 146,
   "id": "243585a1",
   "metadata": {},
   "outputs": [
    {
     "name": "stdout",
     "output_type": "stream",
     "text": [
      "[45 48 65 68 68 10 84 22 37 88 71 89 89 13 59 66 40 88 47 89]\n",
      "[10 13 22 37 40 45 47 48 59 65 66 68 68 71 84 88 88 89 89 89]\n",
      "[45 48 65 68 68 10 84 22 37 88 71 89 89 13 59 66 40 88 47 89]\n"
     ]
    }
   ],
   "source": [
    "np.random.seed(0)\n",
    "arr = np.random.randint(1,100,20)\n",
    "print(arr)\n",
    "print(np.sort(arr))\n",
    "print(arr)"
   ]
  },
  {
   "cell_type": "code",
   "execution_count": 147,
   "id": "24fee581",
   "metadata": {},
   "outputs": [
    {
     "name": "stdout",
     "output_type": "stream",
     "text": [
      "[10 13 22 37 40 45 47 48 59 65 66 68 71 84 88 89]\n"
     ]
    }
   ],
   "source": [
    "# 去重函数\n",
    "print(np.unique(arr))"
   ]
  },
  {
   "cell_type": "code",
   "execution_count": 150,
   "id": "0077e933",
   "metadata": {},
   "outputs": [
    {
     "name": "stdout",
     "output_type": "stream",
     "text": [
      "[5 7 9]\n",
      "[1 2 3 4 5 6]\n"
     ]
    }
   ],
   "source": [
    "# 数组的拼接\n",
    "arr1 = np.array([1,2,3])\n",
    "arr2 = np.array([4,5,6])\n",
    "print(arr1+arr2)\n",
    "print(np.concatenate((arr1,arr2)))"
   ]
  },
  {
   "cell_type": "code",
   "execution_count": 153,
   "id": "bae35f39",
   "metadata": {},
   "outputs": [
    {
     "name": "stdout",
     "output_type": "stream",
     "text": [
      "[array([45, 48, 65, 68]), array([68, 10, 84, 22]), array([37, 88, 71, 89]), array([89, 13, 59, 66]), array([40, 88, 47, 89])]\n",
      "[array([45, 48, 65, 68, 68, 10]), array([84, 22, 37, 88, 71, 89]), array([89, 13, 59, 66, 40, 88]), array([47, 89])]\n"
     ]
    }
   ],
   "source": [
    "# 数组的分割\n",
    "print(np.split(arr, 5)) # 这里的数字只能写等分的\n",
    "print(np.split(arr, [6, 12, 18])) # 这里可以写出具体的位置，不用等分"
   ]
  },
  {
   "cell_type": "code",
   "execution_count": 154,
   "id": "0e61683d",
   "metadata": {},
   "outputs": [
    {
     "name": "stdout",
     "output_type": "stream",
     "text": [
      "[[45 48 65 68 68]\n",
      " [10 84 22 37 88]\n",
      " [71 89 89 13 59]\n",
      " [66 40 88 47 89]]\n"
     ]
    }
   ],
   "source": [
    "# 调整数组的形状\n",
    "print(np.reshape(arr, [4,5])) # 4行5列，也是需要能等分的"
   ]
  },
  {
   "cell_type": "markdown",
   "id": "b34c37c6",
   "metadata": {},
   "source": [
    "### 综合练习 ###"
   ]
  },
  {
   "cell_type": "code",
   "execution_count": 162,
   "id": "947f5316",
   "metadata": {},
   "outputs": [
    {
     "name": "stdout",
     "output_type": "stream",
     "text": [
      "[28 30 29 31 32 30 29]\n",
      "平均气温: 29.857\n",
      "最高气温: 32\n",
      "最低气温: 28\n",
      "气温超过30的天数: 2\n",
      "[ 0  0  0 31 32  0  0]\n",
      "2\n",
      "2\n"
     ]
    }
   ],
   "source": [
    "\"\"\"\n",
    "题目 1: 温度数据分析\n",
    "某城市一周的最高气温（摄氏度）为[28, 30, 29, 31, 32, 30, 29].\n",
    "- 计算平均气温、最高气温和最低气温\n",
    "- 找出气温超过30的天数\n",
    "\"\"\"\n",
    "import numpy as np\n",
    "temps = np.array([28, 30, 29, 31, 32, 30, 29])\n",
    "print(temps)\n",
    "print('平均气温:', '%.3f' %np.mean(temps)) # 保留3位小数\n",
    "print('最高气温:', np.max(temps))\n",
    "print('最低气温:', np.min(temps))\n",
    "print('气温超过30的天数:', len(temps[temps>30]))\n",
    "print(np.where(temps>30, temps, 0))\n",
    "print(np.cumsum(np.where(temps>30,1,0))[-1]) # 取最后一个数\n",
    "print(np.count_nonzero(temps>30))"
   ]
  },
  {
   "cell_type": "code",
   "execution_count": 167,
   "id": "50f3cc83",
   "metadata": {},
   "outputs": [
    {
     "name": "stdout",
     "output_type": "stream",
     "text": [
      "[85 90 78 92 88]\n",
      "[78 85 88 90 92]\n",
      "平均分: 86.6\n",
      "中位数: 88.0\n",
      "标准差: 4.883\n",
      "[8.5 9.  7.8 9.2 8.8]\n"
     ]
    }
   ],
   "source": [
    "\"\"\"\n",
    "题目 2: 学生成绩统计\n",
    "某班级5名学生的数学成绩[85， 90， 78， 92， 88]。\n",
    "- 计算成绩的平均分、中位数和标准差。\n",
    "- 将成绩转换为百分制（假设满分为100）\n",
    "\"\"\"\n",
    "score = np.array([85, 90, 78, 92, 88])\n",
    "print(score)\n",
    "print(np.sort(score))\n",
    "print('平均分:', np.mean(score))\n",
    "print('中位数:', np.median(score))\n",
    "print('标准差: %.3f' % np.std(score))\n",
    "print(score/10)"
   ]
  },
  {
   "cell_type": "code",
   "execution_count": 169,
   "id": "f6148ad6",
   "metadata": {},
   "outputs": [
    {
     "name": "stdout",
     "output_type": "stream",
     "text": [
      "[[ 6  8]\n",
      " [10 12]]\n",
      "[[ 5 12]\n",
      " [21 32]]\n",
      "[[19 22]\n",
      " [43 50]]\n",
      "[[19 22]\n",
      " [43 50]]\n"
     ]
    }
   ],
   "source": [
    "\"\"\"\n",
    "题目 3: 矩阵运算\n",
    "给定矩阵 A = [[1,2],[3,4]] 和 B = [[5, 6], [7, 8]]\n",
    "- 计算 A + B 和 A * B （逐元素乘法）。\n",
    "- 计算 A 和 B 的矩阵乘法（点积）。\n",
    "\"\"\"\n",
    "A = np.array([[1, 2], [3, 4]])\n",
    "B = np.array([[5, 6], [7, 8]])\n",
    "print(A + B)\n",
    "print(A * B)\n",
    "print(A @ B)\n",
    "print(np.dot(A, B))"
   ]
  },
  {
   "cell_type": "code",
   "execution_count": 173,
   "id": "e5e1c383",
   "metadata": {},
   "outputs": [
    {
     "name": "stdout",
     "output_type": "stream",
     "text": [
      "[[5 0 3 3]\n",
      " [7 9 3 5]\n",
      " [2 4 7 6]]\n",
      "每列的最大值: [7 9 7 6]\n",
      "每行的最小值: [0 3 2]\n",
      "[[-1  0 -1 -1]\n",
      " [-1 -1 -1 -1]\n",
      " [ 2  4 -1  6]]\n",
      "[[-1  0 -1 -1]\n",
      " [-1 -1 -1 -1]\n",
      " [ 2  4 -1  6]]\n"
     ]
    }
   ],
   "source": [
    "\"\"\"\n",
    "题目 4: 随机数据生成\n",
    "生成一个（3, 4)的随机整数数组，范围[0, 10)\n",
    "- 计算每列的最大值和每行的最小值。\n",
    "- 将数组中的所有奇数替换为 -1。\n",
    "\"\"\"\n",
    "np.random.seed(0)\n",
    "arr = np.random.randint(0, 10, (3, 4))\n",
    "print(arr)\n",
    "print('每列的最大值:', np.max(arr, axis=0)) #axis轴 axis=0列 axis=1行\n",
    "print('每行的最小值:', np.min(arr, axis=1))\n",
    "print(np.where(arr%2==1, -1, arr))\n",
    "arr[arr%2==1]=-1\n",
    "print(arr)"
   ]
  },
  {
   "cell_type": "code",
   "execution_count": 182,
   "id": "096ac3a0",
   "metadata": {},
   "outputs": [
    {
     "name": "stdout",
     "output_type": "stream",
     "text": [
      "[ 1  2  3  4  5  6  7  8  9 10 11 12]\n",
      "[[ 1  2  3  4]\n",
      " [ 5  6  7  8]\n",
      " [ 9 10 11 12]]\n",
      "每行的和 [10 26 42]\n",
      "每列的平均值 [5. 6. 7. 8.]\n",
      "[ 1  2  3  4  5  6  7  8  9 10 11 12]\n"
     ]
    }
   ],
   "source": [
    "\"\"\"\n",
    "题目 5: 数组变形\n",
    "创建一个 1 到 12 的一维数组，并转换为(3, 4)的二维数组。\n",
    "- 计算每行与每列的平均值。\n",
    "- 将数组展平为一维数组。\n",
    "\"\"\"\n",
    "arr = np.arange(1,13)\n",
    "print(arr)\n",
    "arr = np.reshape(arr, (3, 4))\n",
    "print(arr)\n",
    "print('每行的和', np.sum(arr, axis=1))\n",
    "print('每列的平均值', np.mean(arr, axis=0))\n",
    "arr = np.reshape(arr, (12))\n",
    "print(arr)"
   ]
  },
  {
   "cell_type": "code",
   "execution_count": 184,
   "id": "07db5d10",
   "metadata": {},
   "outputs": [
    {
     "name": "stdout",
     "output_type": "stream",
     "text": [
      "[[12 15  0  3  3]\n",
      " [ 7  9 19 18  4]\n",
      " [ 6 12  1  6  7]\n",
      " [14 17  5 13  8]\n",
      " [ 9 19 16 19  5]]\n",
      "[12 15 19 18 12 14 17 13 19 16 19]\n",
      "[[0 0 0 3 3]\n",
      " [7 9 0 0 4]\n",
      " [6 0 1 6 7]\n",
      " [0 0 5 0 8]\n",
      " [9 0 0 0 5]]\n"
     ]
    }
   ],
   "source": [
    "\"\"\"\n",
    "题目 6: 布尔索引\n",
    "生成一个(5, 5)的随机数组，范围[0, 20)\n",
    "- 找出数组中大于10的元素\n",
    "- 将所有大于10的元素替换为0\n",
    "\"\"\"\n",
    "np.random.seed(0)\n",
    "arr = np.random.randint(0, 20, (5, 5))\n",
    "print(arr)\n",
    "print(arr[arr>10])\n",
    "arr = np.where(arr>10, 0, arr)\n",
    "print(arr)"
   ]
  },
  {
   "cell_type": "code",
   "execution_count": 186,
   "id": "6fa12359",
   "metadata": {},
   "outputs": [
    {
     "name": "stdout",
     "output_type": "stream",
     "text": [
      "总和: 760\n",
      "平均值: 126.66666666666667\n",
      "方差: 97.22222222222223\n",
      "销售额最高的月份:\n",
      "销售额最低的月份:\n",
      "最高的月份 6\n",
      "最低的月份 3\n"
     ]
    }
   ],
   "source": [
    "\"\"\"\n",
    "题目 7: 统计函数应用\n",
    "某公司6个月的销售额（万元）为[120, 135, 110, 125, 130, 140]。\n",
    "- 计算销售额的总和、均值和方差\n",
    "- 找出销售额最高的月份和最低的月份\n",
    "\"\"\"\n",
    "money = np.array([120, 135, 110, 125, 130, 140])\n",
    "print('总和:', np.sum(money))\n",
    "print('平均值:', np.mean(money))\n",
    "print('方差:', np.var(money))\n",
    "print('销售额最高的月份:', )\n",
    "print('销售额最低的月份:', )\n",
    "print('最高的月份', np.argmax(money)+1)\n",
    "print('最低的月份', np.argmin(money)+1)"
   ]
  },
  {
   "cell_type": "code",
   "execution_count": 187,
   "id": "518d70c6",
   "metadata": {},
   "outputs": [
    {
     "name": "stdout",
     "output_type": "stream",
     "text": [
      "[1 2 3 4 5 6]\n",
      "[[1 2 3]\n",
      " [4 5 6]]\n"
     ]
    }
   ],
   "source": [
    "\"\"\"\n",
    "题目 8: 数组拼接\n",
    "给定 A = [1, 2, 3] 和 B = [4, 5, 6]\n",
    "- 将 A 和 B 水平拼接为一个新数组。\n",
    "- 将 A 和 B 垂直拼接为一个新数组。\n",
    "\"\"\"\n",
    "A = np.array([1, 2, 3])\n",
    "B = np.array([4, 5, 6])\n",
    "C = np.concatenate([A, B])\n",
    "print(C)\n",
    "print(np.reshape(C, (2, 3)))"
   ]
  },
  {
   "cell_type": "code",
   "execution_count": 197,
   "id": "8a7b014d",
   "metadata": {},
   "outputs": [
    {
     "name": "stdout",
     "output_type": "stream",
     "text": [
      "[1 2 3 4]\n",
      "[2 2 2 1]\n",
      "[2, 2, 2, 1]\n"
     ]
    }
   ],
   "source": [
    "\"\"\"\n",
    "题目 9: 唯一值与排序\n",
    "给定数组 [2, 1, 2, 3, 1, 4, 3]\n",
    "- 找出数组中的唯一值并排序\n",
    "- 计算每个唯一值出现的次数\n",
    "\"\"\"\n",
    "arr = np.array([2, 1, 2, 3, 1, 4, 3])\n",
    "u_arr, counts = np.unique(arr, return_counts=True)\n",
    "print(u_arr)\n",
    "print(counts)\n",
    "d = []\n",
    "for i in range(len(u_arr)):\n",
    "    d = d + [len(arr[arr==u_arr[i]])]\n",
    "print(d)"
   ]
  },
  {
   "cell_type": "code",
   "execution_count": 199,
   "id": "715c4c0b",
   "metadata": {},
   "outputs": [
    {
     "name": "stdout",
     "output_type": "stream",
     "text": [
      "每天的利润: [15 18 16 22 20]\n",
      "利润的平均值: 6.8\n",
      "利润的标准差: 1.16619037896906\n",
      "利润最高的天数: 2\n"
     ]
    }
   ],
   "source": [
    "\"\"\"\n",
    "题目 10: 综合应用\n",
    "某商店 5 天的销售额（万元）和成本（万元）如下：\n",
    "销售额： [20, 25, 22, 30, 28]\n",
    "成本： [15, 18, 16, 22, 20]\n",
    "- 计算每天的利润（销售额 - 成本）。\n",
    "- 计算利润的平均值和标准差。\n",
    "- 找出利润最高的天数。\n",
    "\"\"\"\n",
    "money = np.array([20, 25, 22, 30, 28])\n",
    "a = np.array([15, 18, 16, 22, 20])\n",
    "b = money - a\n",
    "print('每天的利润:', a)\n",
    "print('利润的平均值:', np.mean(b))\n",
    "print('利润的标准差:', np.std(b))\n",
    "print('利润最高的天数:', len(b[b==np.max(b)]))"
   ]
  }
 ],
 "metadata": {
  "kernelspec": {
   "display_name": "Python 3 (ipykernel)",
   "language": "python",
   "name": "python3"
  },
  "language_info": {
   "codemirror_mode": {
    "name": "ipython",
    "version": 3
   },
   "file_extension": ".py",
   "mimetype": "text/x-python",
   "name": "python",
   "nbconvert_exporter": "python",
   "pygments_lexer": "ipython3",
   "version": "3.11.5"
  }
 },
 "nbformat": 4,
 "nbformat_minor": 5
}
